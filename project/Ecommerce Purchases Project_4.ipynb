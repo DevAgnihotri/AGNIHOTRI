{
  "metadata": {
    "kernelspec": {
      "name": "python",
      "display_name": "Python (Pyodide)",
      "language": "python"
    },
    "language_info": {
      "codemirror_mode": {
        "name": "python",
        "version": 3
      },
      "file_extension": ".py",
      "mimetype": "text/x-python",
      "name": "python",
      "nbconvert_exporter": "python",
      "pygments_lexer": "ipython3",
      "version": "3.8"
    }
  },
  "nbformat_minor": 4,
  "nbformat": 4,
  "cells": [
    {
      "cell_type": "markdown",
      "source": "### Sorry for unreliable dataset and confusing columns",
      "metadata": {}
    },
    {
      "cell_type": "code",
      "source": "import pandas as pd",
      "metadata": {
        "trusted": true
      },
      "execution_count": 1,
      "outputs": []
    },
    {
      "cell_type": "code",
      "source": "df = pd.read_csv('Ecommerce Purchases')",
      "metadata": {
        "trusted": true
      },
      "execution_count": 2,
      "outputs": []
    },
    {
      "cell_type": "code",
      "source": "df.columns",
      "metadata": {
        "trusted": true
      },
      "execution_count": 3,
      "outputs": [
        {
          "execution_count": 3,
          "output_type": "execute_result",
          "data": {
            "text/plain": "Index(['6534.10.5\"', 'Mckinney-Gonzalez', '869957209729483', '02/25', '160',\n       'Mastercard', 'david75@miller.biz', 'Production assistant, television',\n       '211.51.146.20', 'de', '80.53'],\n      dtype='object')"
          },
          "metadata": {}
        }
      ]
    },
    {
      "cell_type": "markdown",
      "source": "### 1.Display Top 10 Rows of The Dataset",
      "metadata": {}
    },
    {
      "cell_type": "code",
      "source": "df.head()",
      "metadata": {
        "trusted": true
      },
      "execution_count": 4,
      "outputs": [
        {
          "execution_count": 4,
          "output_type": "execute_result",
          "data": {
            "text/plain": "                                                                                                    6534.10.5\"  \\\nPSC 3524, Box 9417\\nAPO AA 09217-2597              77 oq PM  Mozilla/5.0 (X11; Linux x86_64; rv:1.9.5.20) G...   \nUnit 2512 Box 3240\\nDPO AE 73264-2823              34 bB AM  Opera/9.33.(X11; Linux x86_64; en-US) Presto/2...   \nUnit 2807 Box 1152\\nDPO AE 90364-7161              69 GO AM  Mozilla/5.0 (Macintosh; U; Intel Mac OS X 10_6...   \n524 Hill Track Apt. 980\\nSandrahaven, GA 68830-... 52 ss AM  Mozilla/5.0 (Windows; U; Windows NT 5.2) Apple...   \n461 William Route Apt. 914\\nCoxport, MD 74117      27 EA AM  Mozilla/5.0 (Macintosh; Intel Mac OS X 10_5_7)...   \n\n                                                              Mckinney-Gonzalez  \\\nPSC 3524, Box 9417\\nAPO AA 09217-2597              77 oq PM       Rodriguez Ltd   \nUnit 2512 Box 3240\\nDPO AE 73264-2823              34 bB AM  Schneider and Sons   \nUnit 2807 Box 1152\\nDPO AE 90364-7161              69 GO AM           Price Ltd   \n524 Hill Track Apt. 980\\nSandrahaven, GA 68830-... 52 ss AM         Irwin-Frost   \n461 William Route Apt. 914\\nCoxport, MD 74117      27 EA AM           Smith Inc   \n\n                                                              869957209729483  \\\nPSC 3524, Box 9417\\nAPO AA 09217-2597              77 oq PM   210029157389946   \nUnit 2512 Box 3240\\nDPO AE 73264-2823              34 bB AM   210023579873538   \nUnit 2807 Box 1152\\nDPO AE 90364-7161              69 GO AM  3337549391700444   \n524 Hill Track Apt. 980\\nSandrahaven, GA 68830-... 52 ss AM  6011932554425502   \n461 William Route Apt. 914\\nCoxport, MD 74117      27 EA AM  4206301309941629   \n\n                                                             02/25  160  \\\nPSC 3524, Box 9417\\nAPO AA 09217-2597              77 oq PM  07/22  956   \nUnit 2512 Box 3240\\nDPO AE 73264-2823              34 bB AM  12/21  336   \nUnit 2807 Box 1152\\nDPO AE 90364-7161              69 GO AM  09/21  979   \n524 Hill Track Apt. 980\\nSandrahaven, GA 68830-... 52 ss AM  03/26  832   \n461 William Route Apt. 914\\nCoxport, MD 74117      27 EA AM  09/16  136   \n\n                                                                              Mastercard  \\\nPSC 3524, Box 9417\\nAPO AA 09217-2597              77 oq PM                      Voyager   \nUnit 2512 Box 3240\\nDPO AE 73264-2823              34 bB AM                VISA 13 digit   \nUnit 2807 Box 1152\\nDPO AE 90364-7161              69 GO AM                VISA 16 digit   \n524 Hill Track Apt. 980\\nSandrahaven, GA 68830-... 52 ss AM  Diners Club / Carte Blanche   \n461 William Route Apt. 914\\nCoxport, MD 74117      27 EA AM                      Maestro   \n\n                                                                             david75@miller.biz  \\\nPSC 3524, Box 9417\\nAPO AA 09217-2597              77 oq PM                   amber18@gmail.com   \nUnit 2512 Box 3240\\nDPO AE 73264-2823              34 bB AM            pjuarez@fisher-burns.net   \nUnit 2807 Box 1152\\nDPO AE 90364-7161              69 GO AM  johnsonmaria@jackson-hernandez.biz   \n524 Hill Track Apt. 980\\nSandrahaven, GA 68830-... 52 ss AM              hoffmanperry@yahoo.com   \n461 William Route Apt. 914\\nCoxport, MD 74117      27 EA AM              stevemyers@hotmail.com   \n\n                                                            Production assistant, television  \\\nPSC 3524, Box 9417\\nAPO AA 09217-2597              77 oq PM                   Therapist, art   \nUnit 2512 Box 3240\\nDPO AE 73264-2823              34 bB AM                      Fine artist   \nUnit 2807 Box 1152\\nDPO AE 90364-7161              69 GO AM                  Learning mentor   \n524 Hill Track Apt. 980\\nSandrahaven, GA 68830-... 52 ss AM              Seismic interpreter   \n461 William Route Apt. 914\\nCoxport, MD 74117      27 EA AM    Engineer, civil (contracting)   \n\n                                                               211.51.146.20  \\\nPSC 3524, Box 9417\\nAPO AA 09217-2597              77 oq PM     240.0.241.47   \nUnit 2512 Box 3240\\nDPO AE 73264-2823              34 bB AM  122.180.112.221   \nUnit 2807 Box 1152\\nDPO AE 90364-7161              69 GO AM     67.28.45.167   \n524 Hill Track Apt. 980\\nSandrahaven, GA 68830-... 52 ss AM    230.103.41.76   \n461 William Route Apt. 914\\nCoxport, MD 74117      27 EA AM    248.147.6.166   \n\n                                                             de  80.53  \nPSC 3524, Box 9417\\nAPO AA 09217-2597              77 oq PM  es   4.81  \nUnit 2512 Box 3240\\nDPO AE 73264-2823              34 bB AM  el  55.30  \nUnit 2807 Box 1152\\nDPO AE 90364-7161              69 GO AM  el  89.63  \n524 Hill Track Apt. 980\\nSandrahaven, GA 68830-... 52 ss AM  de  48.62  \n461 William Route Apt. 914\\nCoxport, MD 74117      27 EA AM  ru  61.83  ",
            "text/html": "<div>\n<style scoped>\n    .dataframe tbody tr th:only-of-type {\n        vertical-align: middle;\n    }\n\n    .dataframe tbody tr th {\n        vertical-align: top;\n    }\n\n    .dataframe thead th {\n        text-align: right;\n    }\n</style>\n<table border=\"1\" class=\"dataframe\">\n  <thead>\n    <tr style=\"text-align: right;\">\n      <th></th>\n      <th></th>\n      <th></th>\n      <th>6534.10.5\"</th>\n      <th>Mckinney-Gonzalez</th>\n      <th>869957209729483</th>\n      <th>02/25</th>\n      <th>160</th>\n      <th>Mastercard</th>\n      <th>david75@miller.biz</th>\n      <th>Production assistant, television</th>\n      <th>211.51.146.20</th>\n      <th>de</th>\n      <th>80.53</th>\n    </tr>\n  </thead>\n  <tbody>\n    <tr>\n      <th>PSC 3524, Box 9417\\nAPO AA 09217-2597</th>\n      <th>77 oq</th>\n      <th>PM</th>\n      <td>Mozilla/5.0 (X11; Linux x86_64; rv:1.9.5.20) G...</td>\n      <td>Rodriguez Ltd</td>\n      <td>210029157389946</td>\n      <td>07/22</td>\n      <td>956</td>\n      <td>Voyager</td>\n      <td>amber18@gmail.com</td>\n      <td>Therapist, art</td>\n      <td>240.0.241.47</td>\n      <td>es</td>\n      <td>4.81</td>\n    </tr>\n    <tr>\n      <th>Unit 2512 Box 3240\\nDPO AE 73264-2823</th>\n      <th>34 bB</th>\n      <th>AM</th>\n      <td>Opera/9.33.(X11; Linux x86_64; en-US) Presto/2...</td>\n      <td>Schneider and Sons</td>\n      <td>210023579873538</td>\n      <td>12/21</td>\n      <td>336</td>\n      <td>VISA 13 digit</td>\n      <td>pjuarez@fisher-burns.net</td>\n      <td>Fine artist</td>\n      <td>122.180.112.221</td>\n      <td>el</td>\n      <td>55.30</td>\n    </tr>\n    <tr>\n      <th>Unit 2807 Box 1152\\nDPO AE 90364-7161</th>\n      <th>69 GO</th>\n      <th>AM</th>\n      <td>Mozilla/5.0 (Macintosh; U; Intel Mac OS X 10_6...</td>\n      <td>Price Ltd</td>\n      <td>3337549391700444</td>\n      <td>09/21</td>\n      <td>979</td>\n      <td>VISA 16 digit</td>\n      <td>johnsonmaria@jackson-hernandez.biz</td>\n      <td>Learning mentor</td>\n      <td>67.28.45.167</td>\n      <td>el</td>\n      <td>89.63</td>\n    </tr>\n    <tr>\n      <th>524 Hill Track Apt. 980\\nSandrahaven, GA 68830-0916</th>\n      <th>52 ss</th>\n      <th>AM</th>\n      <td>Mozilla/5.0 (Windows; U; Windows NT 5.2) Apple...</td>\n      <td>Irwin-Frost</td>\n      <td>6011932554425502</td>\n      <td>03/26</td>\n      <td>832</td>\n      <td>Diners Club / Carte Blanche</td>\n      <td>hoffmanperry@yahoo.com</td>\n      <td>Seismic interpreter</td>\n      <td>230.103.41.76</td>\n      <td>de</td>\n      <td>48.62</td>\n    </tr>\n    <tr>\n      <th>461 William Route Apt. 914\\nCoxport, MD 74117</th>\n      <th>27 EA</th>\n      <th>AM</th>\n      <td>Mozilla/5.0 (Macintosh; Intel Mac OS X 10_5_7)...</td>\n      <td>Smith Inc</td>\n      <td>4206301309941629</td>\n      <td>09/16</td>\n      <td>136</td>\n      <td>Maestro</td>\n      <td>stevemyers@hotmail.com</td>\n      <td>Engineer, civil (contracting)</td>\n      <td>248.147.6.166</td>\n      <td>ru</td>\n      <td>61.83</td>\n    </tr>\n  </tbody>\n</table>\n</div>"
          },
          "metadata": {}
        }
      ]
    },
    {
      "cell_type": "markdown",
      "source": "### 2. Check Last 3 Rows of The Dataset",
      "metadata": {}
    },
    {
      "cell_type": "code",
      "source": "df.tail(3)",
      "metadata": {
        "trusted": true
      },
      "execution_count": 5,
      "outputs": [
        {
          "execution_count": 5,
          "output_type": "execute_result",
          "data": {
            "text/plain": "                                                                                                6534.10.5\"  \\\nUnit 4434 Box 6343\\nDPO AE 28026-0283          74 Zh AM  Mozilla/5.0 (Macintosh; U; Intel Mac OS X 10_7...   \n0096 English Rest\\nRoystad, IA 12457           74 cL PM  Mozilla/5.0 (Macintosh; Intel Mac OS X 10_8_8;...   \n40674 Barrett Stravenue\\nGrimesville, WI 79682 64 Hr AM  Mozilla/5.0 (X11; Linux i686; rv:1.9.5.20) Gec...   \n\n                                                        Mckinney-Gonzalez  \\\nUnit 4434 Box 6343\\nDPO AE 28026-0283          74 Zh AM      Anderson Ltd   \n0096 English Rest\\nRoystad, IA 12457           74 cL PM          Cook Inc   \n40674 Barrett Stravenue\\nGrimesville, WI 79682 64 Hr AM        Greene Inc   \n\n                                                          869957209729483  \\\nUnit 4434 Box 6343\\nDPO AE 28026-0283          74 Zh AM  6011539787356311   \n0096 English Rest\\nRoystad, IA 12457           74 cL PM   180003348082930   \n40674 Barrett Stravenue\\nGrimesville, WI 79682 64 Hr AM  4139972901927273   \n\n                                                         02/25  160  \\\nUnit 4434 Box 6343\\nDPO AE 28026-0283          74 Zh AM  05/21    1   \n0096 English Rest\\nRoystad, IA 12457           74 cL PM  11/17  987   \n40674 Barrett Stravenue\\nGrimesville, WI 79682 64 Hr AM  02/19  302   \n\n                                                               Mastercard  \\\nUnit 4434 Box 6343\\nDPO AE 28026-0283          74 Zh AM     VISA 16 digit   \n0096 English Rest\\nRoystad, IA 12457           74 cL PM  American Express   \n40674 Barrett Stravenue\\nGrimesville, WI 79682 64 Hr AM      JCB 15 digit   \n\n                                                              david75@miller.biz  \\\nUnit 4434 Box 6343\\nDPO AE 28026-0283          74 Zh AM        tyler16@gmail.com   \n0096 English Rest\\nRoystad, IA 12457           74 cL PM  elizabethmoore@reid.net   \n40674 Barrett Stravenue\\nGrimesville, WI 79682 64 Hr AM    rachelford@vaughn.com   \n\n                                                        Production assistant, television  \\\nUnit 4434 Box 6343\\nDPO AE 28026-0283          74 Zh AM               Veterinary surgeon   \n0096 English Rest\\nRoystad, IA 12457           74 cL PM         Local government officer   \n40674 Barrett Stravenue\\nGrimesville, WI 79682 64 Hr AM           Embryologist, clinical   \n\n                                                           211.51.146.20  de  \\\nUnit 4434 Box 6343\\nDPO AE 28026-0283          74 Zh AM    156.210.0.254  el   \n0096 English Rest\\nRoystad, IA 12457           74 cL PM     55.78.26.143  es   \n40674 Barrett Stravenue\\nGrimesville, WI 79682 64 Hr AM  176.119.198.199  el   \n\n                                                         80.53  \nUnit 4434 Box 6343\\nDPO AE 28026-0283          74 Zh AM  83.98  \n0096 English Rest\\nRoystad, IA 12457           74 cL PM  38.84  \n40674 Barrett Stravenue\\nGrimesville, WI 79682 64 Hr AM  67.59  ",
            "text/html": "<div>\n<style scoped>\n    .dataframe tbody tr th:only-of-type {\n        vertical-align: middle;\n    }\n\n    .dataframe tbody tr th {\n        vertical-align: top;\n    }\n\n    .dataframe thead th {\n        text-align: right;\n    }\n</style>\n<table border=\"1\" class=\"dataframe\">\n  <thead>\n    <tr style=\"text-align: right;\">\n      <th></th>\n      <th></th>\n      <th></th>\n      <th>6534.10.5\"</th>\n      <th>Mckinney-Gonzalez</th>\n      <th>869957209729483</th>\n      <th>02/25</th>\n      <th>160</th>\n      <th>Mastercard</th>\n      <th>david75@miller.biz</th>\n      <th>Production assistant, television</th>\n      <th>211.51.146.20</th>\n      <th>de</th>\n      <th>80.53</th>\n    </tr>\n  </thead>\n  <tbody>\n    <tr>\n      <th>Unit 4434 Box 6343\\nDPO AE 28026-0283</th>\n      <th>74 Zh</th>\n      <th>AM</th>\n      <td>Mozilla/5.0 (Macintosh; U; Intel Mac OS X 10_7...</td>\n      <td>Anderson Ltd</td>\n      <td>6011539787356311</td>\n      <td>05/21</td>\n      <td>1</td>\n      <td>VISA 16 digit</td>\n      <td>tyler16@gmail.com</td>\n      <td>Veterinary surgeon</td>\n      <td>156.210.0.254</td>\n      <td>el</td>\n      <td>83.98</td>\n    </tr>\n    <tr>\n      <th>0096 English Rest\\nRoystad, IA 12457</th>\n      <th>74 cL</th>\n      <th>PM</th>\n      <td>Mozilla/5.0 (Macintosh; Intel Mac OS X 10_8_8;...</td>\n      <td>Cook Inc</td>\n      <td>180003348082930</td>\n      <td>11/17</td>\n      <td>987</td>\n      <td>American Express</td>\n      <td>elizabethmoore@reid.net</td>\n      <td>Local government officer</td>\n      <td>55.78.26.143</td>\n      <td>es</td>\n      <td>38.84</td>\n    </tr>\n    <tr>\n      <th>40674 Barrett Stravenue\\nGrimesville, WI 79682</th>\n      <th>64 Hr</th>\n      <th>AM</th>\n      <td>Mozilla/5.0 (X11; Linux i686; rv:1.9.5.20) Gec...</td>\n      <td>Greene Inc</td>\n      <td>4139972901927273</td>\n      <td>02/19</td>\n      <td>302</td>\n      <td>JCB 15 digit</td>\n      <td>rachelford@vaughn.com</td>\n      <td>Embryologist, clinical</td>\n      <td>176.119.198.199</td>\n      <td>el</td>\n      <td>67.59</td>\n    </tr>\n  </tbody>\n</table>\n</div>"
          },
          "metadata": {}
        }
      ]
    },
    {
      "cell_type": "markdown",
      "source": "### 3. Check Datatype of Each Column",
      "metadata": {}
    },
    {
      "cell_type": "code",
      "source": "df.dtypes",
      "metadata": {
        "trusted": true
      },
      "execution_count": 6,
      "outputs": [
        {
          "execution_count": 6,
          "output_type": "execute_result",
          "data": {
            "text/plain": "6534.10.5\"                           object\nMckinney-Gonzalez                    object\n869957209729483                       int64\n02/25                                object\n160                                   int64\nMastercard                           object\ndavid75@miller.biz                   object\nProduction assistant, television     object\n211.51.146.20                        object\nde                                   object\n80.53                               float64\ndtype: object"
          },
          "metadata": {}
        }
      ]
    },
    {
      "cell_type": "markdown",
      "source": "### 4.Check Null Values In The Dataset",
      "metadata": {}
    },
    {
      "cell_type": "code",
      "source": "df.isnull().sum()",
      "metadata": {
        "trusted": true
      },
      "execution_count": 8,
      "outputs": [
        {
          "execution_count": 8,
          "output_type": "execute_result",
          "data": {
            "text/plain": "6534.10.5\"                          0\nMckinney-Gonzalez                   0\n869957209729483                     0\n02/25                               0\n160                                 0\nMastercard                          0\ndavid75@miller.biz                  0\nProduction assistant, television    0\n211.51.146.20                       0\nde                                  0\n80.53                               0\ndtype: int64"
          },
          "metadata": {}
        }
      ]
    },
    {
      "cell_type": "markdown",
      "source": "### 6. How Many Rows And Columns Are There In Our Dataset? ",
      "metadata": {}
    },
    {
      "cell_type": "code",
      "source": "df.shape",
      "metadata": {
        "trusted": true
      },
      "execution_count": 9,
      "outputs": [
        {
          "execution_count": 9,
          "output_type": "execute_result",
          "data": {
            "text/plain": "(2363, 11)"
          },
          "metadata": {}
        }
      ]
    },
    {
      "cell_type": "markdown",
      "source": "### 7. Highest And Lowest Purchase Prices",
      "metadata": {}
    },
    {
      "cell_type": "code",
      "source": "df['160'].max()",
      "metadata": {
        "trusted": true
      },
      "execution_count": 11,
      "outputs": [
        {
          "execution_count": 11,
          "output_type": "execute_result",
          "data": {
            "text/plain": "9989"
          },
          "metadata": {}
        }
      ]
    },
    {
      "cell_type": "code",
      "source": "df['160'].idxmax()",
      "metadata": {
        "trusted": true
      },
      "execution_count": 10,
      "outputs": [
        {
          "execution_count": 10,
          "output_type": "execute_result",
          "data": {
            "text/plain": "('88305 Eileen Prairie\\nLake Michellechester, NC 56239', '90 KU', 'PM')"
          },
          "metadata": {}
        }
      ]
    },
    {
      "cell_type": "code",
      "source": "df['160'].idxmin()",
      "metadata": {
        "trusted": true
      },
      "execution_count": 12,
      "outputs": [
        {
          "execution_count": 12,
          "output_type": "execute_result",
          "data": {
            "text/plain": "('PSC 6610, Box 2871\\nAPO AE 39171-6454', '80 Kd', 'AM')"
          },
          "metadata": {}
        }
      ]
    },
    {
      "cell_type": "code",
      "source": "df['160'].min()",
      "metadata": {
        "trusted": true
      },
      "execution_count": 13,
      "outputs": [
        {
          "execution_count": 13,
          "output_type": "execute_result",
          "data": {
            "text/plain": "0"
          },
          "metadata": {}
        }
      ]
    },
    {
      "cell_type": "markdown",
      "source": "### 8. Average Purchase Price",
      "metadata": {}
    },
    {
      "cell_type": "code",
      "source": "df['160'].mean()",
      "metadata": {
        "trusted": true
      },
      "execution_count": 15,
      "outputs": [
        {
          "execution_count": 15,
          "output_type": "execute_result",
          "data": {
            "text/plain": "942.6517139229793"
          },
          "metadata": {}
        }
      ]
    },
    {
      "cell_type": "markdown",
      "source": "### 9 .How many people have French 'fr' as their Language ?",
      "metadata": {}
    },
    {
      "cell_type": "code",
      "source": "(df['de'] == 'fr').sum()",
      "metadata": {
        "trusted": true
      },
      "execution_count": 17,
      "outputs": [
        {
          "execution_count": 17,
          "output_type": "execute_result",
          "data": {
            "text/plain": "224"
          },
          "metadata": {}
        }
      ]
    },
    {
      "cell_type": "markdown",
      "source": "### 11. How Many People Have Mastercard As Their Credit Card Provider And Made A Purchase Above 50?",
      "metadata": {}
    },
    {
      "cell_type": "code",
      "source": "len(df[(df['Mastercard'] == 'Mastercard') & (df['160'] > 50)])",
      "metadata": {
        "trusted": true
      },
      "execution_count": 20,
      "outputs": [
        {
          "execution_count": 20,
          "output_type": "execute_result",
          "data": {
            "text/plain": "173"
          },
          "metadata": {}
        }
      ]
    }
  ]
}